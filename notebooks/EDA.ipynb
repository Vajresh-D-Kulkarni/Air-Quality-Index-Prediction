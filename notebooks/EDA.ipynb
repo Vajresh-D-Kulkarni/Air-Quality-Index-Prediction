{
 "cells": [
  {
   "cell_type": "code",
   "execution_count": 2,
   "id": "f85d5c95",
   "metadata": {},
   "outputs": [],
   "source": [
    "import pandas as pd"
   ]
  },
  {
   "cell_type": "code",
   "execution_count": 3,
   "id": "ed731f6f",
   "metadata": {},
   "outputs": [],
   "source": [
    "data = pd.read_csv('data/Book.csv')"
   ]
  },
  {
   "cell_type": "code",
   "execution_count": 4,
   "id": "c6eff53d",
   "metadata": {},
   "outputs": [
    {
     "data": {
      "application/vnd.microsoft.datawrangler.viewer.v0+json": {
       "columns": [
        {
         "name": "index",
         "rawType": "int64",
         "type": "integer"
        },
        {
         "name": "No",
         "rawType": "int64",
         "type": "integer"
        },
        {
         "name": "Date",
         "rawType": "object",
         "type": "string"
        },
        {
         "name": "SO2",
         "rawType": "int64",
         "type": "integer"
        },
        {
         "name": "NOx",
         "rawType": "int64",
         "type": "integer"
        },
        {
         "name": "RSPM",
         "rawType": "int64",
         "type": "integer"
        },
        {
         "name": "SPM",
         "rawType": "int64",
         "type": "integer"
        },
        {
         "name": "AQI",
         "rawType": "int64",
         "type": "integer"
        }
       ],
       "conversionMethod": "pd.DataFrame",
       "ref": "eb4cdf3c-2341-4b69-926f-966f944b2851",
       "rows": [
        [
         "0",
         "1",
         "18-06-2015",
         "10",
         "14",
         "43",
         "115",
         "43"
        ],
        [
         "1",
         "2",
         "22-06-2015",
         "10",
         "12",
         "40",
         "88",
         "40"
        ],
        [
         "2",
         "3",
         "25-06-2015",
         "9",
         "12",
         "36",
         "81",
         "36"
        ],
        [
         "3",
         "4",
         "29-06-2015",
         "11",
         "16",
         "51",
         "133",
         "51"
        ],
        [
         "4",
         "5",
         "02-07-2015",
         "11",
         "17",
         "55",
         "146",
         "55"
        ]
       ],
       "shape": {
        "columns": 7,
        "rows": 5
       }
      },
      "text/html": [
       "<div>\n",
       "<style scoped>\n",
       "    .dataframe tbody tr th:only-of-type {\n",
       "        vertical-align: middle;\n",
       "    }\n",
       "\n",
       "    .dataframe tbody tr th {\n",
       "        vertical-align: top;\n",
       "    }\n",
       "\n",
       "    .dataframe thead th {\n",
       "        text-align: right;\n",
       "    }\n",
       "</style>\n",
       "<table border=\"1\" class=\"dataframe\">\n",
       "  <thead>\n",
       "    <tr style=\"text-align: right;\">\n",
       "      <th></th>\n",
       "      <th>No</th>\n",
       "      <th>Date</th>\n",
       "      <th>SO2</th>\n",
       "      <th>NOx</th>\n",
       "      <th>RSPM</th>\n",
       "      <th>SPM</th>\n",
       "      <th>AQI</th>\n",
       "    </tr>\n",
       "  </thead>\n",
       "  <tbody>\n",
       "    <tr>\n",
       "      <th>0</th>\n",
       "      <td>1</td>\n",
       "      <td>18-06-2015</td>\n",
       "      <td>10</td>\n",
       "      <td>14</td>\n",
       "      <td>43</td>\n",
       "      <td>115</td>\n",
       "      <td>43</td>\n",
       "    </tr>\n",
       "    <tr>\n",
       "      <th>1</th>\n",
       "      <td>2</td>\n",
       "      <td>22-06-2015</td>\n",
       "      <td>10</td>\n",
       "      <td>12</td>\n",
       "      <td>40</td>\n",
       "      <td>88</td>\n",
       "      <td>40</td>\n",
       "    </tr>\n",
       "    <tr>\n",
       "      <th>2</th>\n",
       "      <td>3</td>\n",
       "      <td>25-06-2015</td>\n",
       "      <td>9</td>\n",
       "      <td>12</td>\n",
       "      <td>36</td>\n",
       "      <td>81</td>\n",
       "      <td>36</td>\n",
       "    </tr>\n",
       "    <tr>\n",
       "      <th>3</th>\n",
       "      <td>4</td>\n",
       "      <td>29-06-2015</td>\n",
       "      <td>11</td>\n",
       "      <td>16</td>\n",
       "      <td>51</td>\n",
       "      <td>133</td>\n",
       "      <td>51</td>\n",
       "    </tr>\n",
       "    <tr>\n",
       "      <th>4</th>\n",
       "      <td>5</td>\n",
       "      <td>02-07-2015</td>\n",
       "      <td>11</td>\n",
       "      <td>17</td>\n",
       "      <td>55</td>\n",
       "      <td>146</td>\n",
       "      <td>55</td>\n",
       "    </tr>\n",
       "  </tbody>\n",
       "</table>\n",
       "</div>"
      ],
      "text/plain": [
       "   No        Date  SO2  NOx  RSPM  SPM  AQI\n",
       "0   1  18-06-2015   10   14    43  115   43\n",
       "1   2  22-06-2015   10   12    40   88   40\n",
       "2   3  25-06-2015    9   12    36   81   36\n",
       "3   4  29-06-2015   11   16    51  133   51\n",
       "4   5  02-07-2015   11   17    55  146   55"
      ]
     },
     "execution_count": 4,
     "metadata": {},
     "output_type": "execute_result"
    }
   ],
   "source": [
    "data.head()"
   ]
  },
  {
   "cell_type": "code",
   "execution_count": 5,
   "id": "8e1803f9",
   "metadata": {},
   "outputs": [
    {
     "name": "stdout",
     "output_type": "stream",
     "text": [
      "<class 'pandas.core.frame.DataFrame'>\n",
      "RangeIndex: 2216 entries, 0 to 2215\n",
      "Data columns (total 7 columns):\n",
      " #   Column  Non-Null Count  Dtype \n",
      "---  ------  --------------  ----- \n",
      " 0   No      2216 non-null   int64 \n",
      " 1   Date    2216 non-null   object\n",
      " 2   SO2     2216 non-null   int64 \n",
      " 3   NOx     2216 non-null   int64 \n",
      " 4   RSPM    2216 non-null   int64 \n",
      " 5   SPM     2216 non-null   int64 \n",
      " 6   AQI     2216 non-null   int64 \n",
      "dtypes: int64(6), object(1)\n",
      "memory usage: 121.3+ KB\n"
     ]
    }
   ],
   "source": [
    "data.info()"
   ]
  },
  {
   "cell_type": "code",
   "execution_count": 6,
   "id": "9d119838",
   "metadata": {},
   "outputs": [
    {
     "data": {
      "text/plain": [
       "np.int64(0)"
      ]
     },
     "execution_count": 6,
     "metadata": {},
     "output_type": "execute_result"
    }
   ],
   "source": [
    "data.isnull().sum().sum()"
   ]
  },
  {
   "cell_type": "code",
   "execution_count": 7,
   "id": "a1ee9ab1",
   "metadata": {},
   "outputs": [
    {
     "data": {
      "text/plain": [
       "No      0\n",
       "Date    0\n",
       "SO2     0\n",
       "NOx     0\n",
       "RSPM    0\n",
       "SPM     0\n",
       "AQI     0\n",
       "dtype: int64"
      ]
     },
     "execution_count": 7,
     "metadata": {},
     "output_type": "execute_result"
    }
   ],
   "source": [
    "data.isnull().sum()"
   ]
  },
  {
   "cell_type": "code",
   "execution_count": 8,
   "id": "6d971c74",
   "metadata": {},
   "outputs": [
    {
     "data": {
      "application/vnd.microsoft.datawrangler.viewer.v0+json": {
       "columns": [
        {
         "name": "index",
         "rawType": "int64",
         "type": "integer"
        },
        {
         "name": "No",
         "rawType": "int64",
         "type": "integer"
        },
        {
         "name": "Date",
         "rawType": "object",
         "type": "string"
        },
        {
         "name": "SO2",
         "rawType": "int64",
         "type": "integer"
        },
        {
         "name": "NOx",
         "rawType": "int64",
         "type": "integer"
        },
        {
         "name": "RSPM",
         "rawType": "int64",
         "type": "integer"
        },
        {
         "name": "SPM",
         "rawType": "int64",
         "type": "integer"
        },
        {
         "name": "AQI",
         "rawType": "int64",
         "type": "integer"
        }
       ],
       "conversionMethod": "pd.DataFrame",
       "ref": "46c17219-2eef-4bec-82a4-b2da4062447b",
       "rows": [
        [
         "0",
         "1",
         "18-06-2015",
         "10",
         "14",
         "43",
         "115",
         "43"
        ],
        [
         "1",
         "2",
         "22-06-2015",
         "10",
         "12",
         "40",
         "88",
         "40"
        ],
        [
         "2",
         "3",
         "25-06-2015",
         "9",
         "12",
         "36",
         "81",
         "36"
        ],
        [
         "3",
         "4",
         "29-06-2015",
         "11",
         "16",
         "51",
         "133",
         "51"
        ],
        [
         "4",
         "5",
         "02-07-2015",
         "11",
         "17",
         "55",
         "146",
         "55"
        ]
       ],
       "shape": {
        "columns": 7,
        "rows": 5
       }
      },
      "text/html": [
       "<div>\n",
       "<style scoped>\n",
       "    .dataframe tbody tr th:only-of-type {\n",
       "        vertical-align: middle;\n",
       "    }\n",
       "\n",
       "    .dataframe tbody tr th {\n",
       "        vertical-align: top;\n",
       "    }\n",
       "\n",
       "    .dataframe thead th {\n",
       "        text-align: right;\n",
       "    }\n",
       "</style>\n",
       "<table border=\"1\" class=\"dataframe\">\n",
       "  <thead>\n",
       "    <tr style=\"text-align: right;\">\n",
       "      <th></th>\n",
       "      <th>No</th>\n",
       "      <th>Date</th>\n",
       "      <th>SO2</th>\n",
       "      <th>NOx</th>\n",
       "      <th>RSPM</th>\n",
       "      <th>SPM</th>\n",
       "      <th>AQI</th>\n",
       "    </tr>\n",
       "  </thead>\n",
       "  <tbody>\n",
       "    <tr>\n",
       "      <th>0</th>\n",
       "      <td>1</td>\n",
       "      <td>18-06-2015</td>\n",
       "      <td>10</td>\n",
       "      <td>14</td>\n",
       "      <td>43</td>\n",
       "      <td>115</td>\n",
       "      <td>43</td>\n",
       "    </tr>\n",
       "    <tr>\n",
       "      <th>1</th>\n",
       "      <td>2</td>\n",
       "      <td>22-06-2015</td>\n",
       "      <td>10</td>\n",
       "      <td>12</td>\n",
       "      <td>40</td>\n",
       "      <td>88</td>\n",
       "      <td>40</td>\n",
       "    </tr>\n",
       "    <tr>\n",
       "      <th>2</th>\n",
       "      <td>3</td>\n",
       "      <td>25-06-2015</td>\n",
       "      <td>9</td>\n",
       "      <td>12</td>\n",
       "      <td>36</td>\n",
       "      <td>81</td>\n",
       "      <td>36</td>\n",
       "    </tr>\n",
       "    <tr>\n",
       "      <th>3</th>\n",
       "      <td>4</td>\n",
       "      <td>29-06-2015</td>\n",
       "      <td>11</td>\n",
       "      <td>16</td>\n",
       "      <td>51</td>\n",
       "      <td>133</td>\n",
       "      <td>51</td>\n",
       "    </tr>\n",
       "    <tr>\n",
       "      <th>4</th>\n",
       "      <td>5</td>\n",
       "      <td>02-07-2015</td>\n",
       "      <td>11</td>\n",
       "      <td>17</td>\n",
       "      <td>55</td>\n",
       "      <td>146</td>\n",
       "      <td>55</td>\n",
       "    </tr>\n",
       "  </tbody>\n",
       "</table>\n",
       "</div>"
      ],
      "text/plain": [
       "   No        Date  SO2  NOx  RSPM  SPM  AQI\n",
       "0   1  18-06-2015   10   14    43  115   43\n",
       "1   2  22-06-2015   10   12    40   88   40\n",
       "2   3  25-06-2015    9   12    36   81   36\n",
       "3   4  29-06-2015   11   16    51  133   51\n",
       "4   5  02-07-2015   11   17    55  146   55"
      ]
     },
     "execution_count": 8,
     "metadata": {},
     "output_type": "execute_result"
    }
   ],
   "source": [
    "data.head()"
   ]
  },
  {
   "cell_type": "code",
   "execution_count": 9,
   "id": "f0350a1e",
   "metadata": {},
   "outputs": [
    {
     "data": {
      "application/vnd.microsoft.datawrangler.viewer.v0+json": {
       "columns": [
        {
         "name": "index",
         "rawType": "int64",
         "type": "integer"
        },
        {
         "name": "SO2",
         "rawType": "int64",
         "type": "integer"
        },
        {
         "name": "NOx",
         "rawType": "int64",
         "type": "integer"
        },
        {
         "name": "RSPM",
         "rawType": "int64",
         "type": "integer"
        },
        {
         "name": "SPM",
         "rawType": "int64",
         "type": "integer"
        },
        {
         "name": "AQI",
         "rawType": "int64",
         "type": "integer"
        }
       ],
       "conversionMethod": "pd.DataFrame",
       "ref": "0dedd5cb-c32b-4433-adb7-17b0a8cea309",
       "rows": [
        [
         "0",
         "10",
         "14",
         "43",
         "115",
         "43"
        ],
        [
         "1",
         "10",
         "12",
         "40",
         "88",
         "40"
        ],
        [
         "2",
         "9",
         "12",
         "36",
         "81",
         "36"
        ],
        [
         "3",
         "11",
         "16",
         "51",
         "133",
         "51"
        ],
        [
         "4",
         "11",
         "17",
         "55",
         "146",
         "55"
        ]
       ],
       "shape": {
        "columns": 5,
        "rows": 5
       }
      },
      "text/html": [
       "<div>\n",
       "<style scoped>\n",
       "    .dataframe tbody tr th:only-of-type {\n",
       "        vertical-align: middle;\n",
       "    }\n",
       "\n",
       "    .dataframe tbody tr th {\n",
       "        vertical-align: top;\n",
       "    }\n",
       "\n",
       "    .dataframe thead th {\n",
       "        text-align: right;\n",
       "    }\n",
       "</style>\n",
       "<table border=\"1\" class=\"dataframe\">\n",
       "  <thead>\n",
       "    <tr style=\"text-align: right;\">\n",
       "      <th></th>\n",
       "      <th>SO2</th>\n",
       "      <th>NOx</th>\n",
       "      <th>RSPM</th>\n",
       "      <th>SPM</th>\n",
       "      <th>AQI</th>\n",
       "    </tr>\n",
       "  </thead>\n",
       "  <tbody>\n",
       "    <tr>\n",
       "      <th>0</th>\n",
       "      <td>10</td>\n",
       "      <td>14</td>\n",
       "      <td>43</td>\n",
       "      <td>115</td>\n",
       "      <td>43</td>\n",
       "    </tr>\n",
       "    <tr>\n",
       "      <th>1</th>\n",
       "      <td>10</td>\n",
       "      <td>12</td>\n",
       "      <td>40</td>\n",
       "      <td>88</td>\n",
       "      <td>40</td>\n",
       "    </tr>\n",
       "    <tr>\n",
       "      <th>2</th>\n",
       "      <td>9</td>\n",
       "      <td>12</td>\n",
       "      <td>36</td>\n",
       "      <td>81</td>\n",
       "      <td>36</td>\n",
       "    </tr>\n",
       "    <tr>\n",
       "      <th>3</th>\n",
       "      <td>11</td>\n",
       "      <td>16</td>\n",
       "      <td>51</td>\n",
       "      <td>133</td>\n",
       "      <td>51</td>\n",
       "    </tr>\n",
       "    <tr>\n",
       "      <th>4</th>\n",
       "      <td>11</td>\n",
       "      <td>17</td>\n",
       "      <td>55</td>\n",
       "      <td>146</td>\n",
       "      <td>55</td>\n",
       "    </tr>\n",
       "  </tbody>\n",
       "</table>\n",
       "</div>"
      ],
      "text/plain": [
       "   SO2  NOx  RSPM  SPM  AQI\n",
       "0   10   14    43  115   43\n",
       "1   10   12    40   88   40\n",
       "2    9   12    36   81   36\n",
       "3   11   16    51  133   51\n",
       "4   11   17    55  146   55"
      ]
     },
     "execution_count": 9,
     "metadata": {},
     "output_type": "execute_result"
    }
   ],
   "source": [
    "data = data.drop(labels=['No', 'Date'], axis=1)\n",
    "data.head()"
   ]
  },
  {
   "cell_type": "code",
   "execution_count": 10,
   "id": "38d04578",
   "metadata": {},
   "outputs": [
    {
     "data": {
      "text/plain": [
       "np.int64(10)"
      ]
     },
     "execution_count": 10,
     "metadata": {},
     "output_type": "execute_result"
    }
   ],
   "source": [
    "data.duplicated().sum()"
   ]
  },
  {
   "cell_type": "code",
   "execution_count": 11,
   "id": "0454bbfa",
   "metadata": {},
   "outputs": [],
   "source": [
    "data.drop_duplicates(inplace=True)"
   ]
  },
  {
   "cell_type": "code",
   "execution_count": 12,
   "id": "4e9b4922",
   "metadata": {},
   "outputs": [
    {
     "data": {
      "text/plain": [
       "np.int64(0)"
      ]
     },
     "execution_count": 12,
     "metadata": {},
     "output_type": "execute_result"
    }
   ],
   "source": [
    "data.duplicated().sum()"
   ]
  },
  {
   "cell_type": "code",
   "execution_count": 13,
   "id": "cd75fdce",
   "metadata": {},
   "outputs": [
    {
     "data": {
      "text/plain": [
       "(2206, 5)"
      ]
     },
     "execution_count": 13,
     "metadata": {},
     "output_type": "execute_result"
    }
   ],
   "source": [
    "data.shape"
   ]
  },
  {
   "cell_type": "code",
   "execution_count": 14,
   "id": "661f79e5",
   "metadata": {},
   "outputs": [
    {
     "name": "stdout",
     "output_type": "stream",
     "text": [
      "['SO2', 'NOx', 'RSPM', 'SPM', 'AQI']\n",
      "[]\n"
     ]
    }
   ],
   "source": [
    "numerical_columns = [cols for cols in data.columns if data.dtypes[cols] != 'object']\n",
    "categorical_columns = [cols for cols in data.columns if data.dtypes[cols] == 'object']\n",
    "print(numerical_columns)\n",
    "print(categorical_columns)"
   ]
  },
  {
   "cell_type": "code",
   "execution_count": 15,
   "id": "90ec4575",
   "metadata": {},
   "outputs": [
    {
     "data": {
      "application/vnd.microsoft.datawrangler.viewer.v0+json": {
       "columns": [
        {
         "name": "index",
         "rawType": "object",
         "type": "string"
        },
        {
         "name": "SO2",
         "rawType": "float64",
         "type": "float"
        },
        {
         "name": "NOx",
         "rawType": "float64",
         "type": "float"
        },
        {
         "name": "RSPM",
         "rawType": "float64",
         "type": "float"
        },
        {
         "name": "SPM",
         "rawType": "float64",
         "type": "float"
        },
        {
         "name": "AQI",
         "rawType": "float64",
         "type": "float"
        }
       ],
       "conversionMethod": "pd.DataFrame",
       "ref": "2017869e-593d-4080-9049-34c73048278b",
       "rows": [
        [
         "count",
         "2206.0",
         "2206.0",
         "2206.0",
         "2206.0",
         "2206.0"
        ],
        [
         "mean",
         "18.832728921124207",
         "33.20126926563917",
         "88.49546690843155",
         "274.73844061650044",
         "85.76019945602901"
        ],
        [
         "std",
         "7.850625781256035",
         "16.25090454759339",
         "30.84421727129657",
         "168.96065916294864",
         "26.880436922066522"
        ],
        [
         "min",
         "5.0",
         "7.0",
         "4.0",
         "48.0",
         "16.0"
        ],
        [
         "25%",
         "12.0",
         "20.0",
         "63.0",
         "141.0",
         "63.0"
        ],
        [
         "50%",
         "18.0",
         "30.0",
         "84.0",
         "217.0",
         "84.0"
        ],
        [
         "75%",
         "24.0",
         "44.0",
         "113.0",
         "391.75",
         "109.0"
        ],
        [
         "max",
         "42.0",
         "87.0",
         "163.0",
         "857.0",
         "142.0"
        ]
       ],
       "shape": {
        "columns": 5,
        "rows": 8
       }
      },
      "text/html": [
       "<div>\n",
       "<style scoped>\n",
       "    .dataframe tbody tr th:only-of-type {\n",
       "        vertical-align: middle;\n",
       "    }\n",
       "\n",
       "    .dataframe tbody tr th {\n",
       "        vertical-align: top;\n",
       "    }\n",
       "\n",
       "    .dataframe thead th {\n",
       "        text-align: right;\n",
       "    }\n",
       "</style>\n",
       "<table border=\"1\" class=\"dataframe\">\n",
       "  <thead>\n",
       "    <tr style=\"text-align: right;\">\n",
       "      <th></th>\n",
       "      <th>SO2</th>\n",
       "      <th>NOx</th>\n",
       "      <th>RSPM</th>\n",
       "      <th>SPM</th>\n",
       "      <th>AQI</th>\n",
       "    </tr>\n",
       "  </thead>\n",
       "  <tbody>\n",
       "    <tr>\n",
       "      <th>count</th>\n",
       "      <td>2206.000000</td>\n",
       "      <td>2206.000000</td>\n",
       "      <td>2206.000000</td>\n",
       "      <td>2206.000000</td>\n",
       "      <td>2206.000000</td>\n",
       "    </tr>\n",
       "    <tr>\n",
       "      <th>mean</th>\n",
       "      <td>18.832729</td>\n",
       "      <td>33.201269</td>\n",
       "      <td>88.495467</td>\n",
       "      <td>274.738441</td>\n",
       "      <td>85.760199</td>\n",
       "    </tr>\n",
       "    <tr>\n",
       "      <th>std</th>\n",
       "      <td>7.850626</td>\n",
       "      <td>16.250905</td>\n",
       "      <td>30.844217</td>\n",
       "      <td>168.960659</td>\n",
       "      <td>26.880437</td>\n",
       "    </tr>\n",
       "    <tr>\n",
       "      <th>min</th>\n",
       "      <td>5.000000</td>\n",
       "      <td>7.000000</td>\n",
       "      <td>4.000000</td>\n",
       "      <td>48.000000</td>\n",
       "      <td>16.000000</td>\n",
       "    </tr>\n",
       "    <tr>\n",
       "      <th>25%</th>\n",
       "      <td>12.000000</td>\n",
       "      <td>20.000000</td>\n",
       "      <td>63.000000</td>\n",
       "      <td>141.000000</td>\n",
       "      <td>63.000000</td>\n",
       "    </tr>\n",
       "    <tr>\n",
       "      <th>50%</th>\n",
       "      <td>18.000000</td>\n",
       "      <td>30.000000</td>\n",
       "      <td>84.000000</td>\n",
       "      <td>217.000000</td>\n",
       "      <td>84.000000</td>\n",
       "    </tr>\n",
       "    <tr>\n",
       "      <th>75%</th>\n",
       "      <td>24.000000</td>\n",
       "      <td>44.000000</td>\n",
       "      <td>113.000000</td>\n",
       "      <td>391.750000</td>\n",
       "      <td>109.000000</td>\n",
       "    </tr>\n",
       "    <tr>\n",
       "      <th>max</th>\n",
       "      <td>42.000000</td>\n",
       "      <td>87.000000</td>\n",
       "      <td>163.000000</td>\n",
       "      <td>857.000000</td>\n",
       "      <td>142.000000</td>\n",
       "    </tr>\n",
       "  </tbody>\n",
       "</table>\n",
       "</div>"
      ],
      "text/plain": [
       "               SO2          NOx         RSPM          SPM          AQI\n",
       "count  2206.000000  2206.000000  2206.000000  2206.000000  2206.000000\n",
       "mean     18.832729    33.201269    88.495467   274.738441    85.760199\n",
       "std       7.850626    16.250905    30.844217   168.960659    26.880437\n",
       "min       5.000000     7.000000     4.000000    48.000000    16.000000\n",
       "25%      12.000000    20.000000    63.000000   141.000000    63.000000\n",
       "50%      18.000000    30.000000    84.000000   217.000000    84.000000\n",
       "75%      24.000000    44.000000   113.000000   391.750000   109.000000\n",
       "max      42.000000    87.000000   163.000000   857.000000   142.000000"
      ]
     },
     "execution_count": 15,
     "metadata": {},
     "output_type": "execute_result"
    }
   ],
   "source": [
    "data.describe()"
   ]
  },
  {
   "cell_type": "code",
   "execution_count": 19,
   "id": "e1eb1780",
   "metadata": {},
   "outputs": [
    {
     "name": "stdout",
     "output_type": "stream",
     "text": [
      "\n",
      "\n"
     ]
    },
    {
     "data": {
      "image/png": "[encoded data removed]",
      "text/plain": [
       "<Figure size 1000x800 with 1 Axes>"
      ]
     },
     "metadata": {},
     "output_type": "display_data"
    },
    {
     "name": "stdout",
     "output_type": "stream",
     "text": [
      "\n",
      "\n"
     ]
    },
    {
     "data": {
      "image/png": "[encoded data removed]",
      "text/plain": [
       "<Figure size 640x480 with 1 Axes>"
      ]
     },
     "metadata": {},
     "output_type": "display_data"
    },
    {
     "name": "stdout",
     "output_type": "stream",
     "text": [
      "\n",
      "\n"
     ]
    },
    {
     "data": {
      "image/png": "[encoded data removed]",
      "text/plain": [
       "<Figure size 640x480 with 1 Axes>"
      ]
     },
     "metadata": {},
     "output_type": "display_data"
    },
    {
     "name": "stdout",
     "output_type": "stream",
     "text": [
      "\n",
      "\n"
     ]
    },
    {
     "data": {
      "image/png": "[encoded data removed]",
      "text/plain": [
       "<Figure size 640x480 with 1 Axes>"
      ]
     },
     "metadata": {},
     "output_type": "display_data"
    },
    {
     "name": "stdout",
     "output_type": "stream",
     "text": [
      "\n",
      "\n"
     ]
    },
    {
     "data": {
      "image/png": "[encoded data removed]",
      "text/plain": [
       "<Figure size 640x480 with 1 Axes>"
      ]
     },
     "metadata": {},
     "output_type": "display_data"
    }
   ],
   "source": [
    "import seaborn as sns\n",
    "import matplotlib.pyplot as plt\n",
    "plt.figure(figsize=(10,8))\n",
    "x = 0\n",
    "for num_col in numerical_columns:\n",
    "    sns.histplot(data=data, x=num_col, kde=True)\n",
    "    print('\\n')\n",
    "    plt.show()"
   ]
  },
  {
   "cell_type": "code",
   "execution_count": 20,
   "id": "72e5b8c1",
   "metadata": {},
   "outputs": [
    {
     "data": {
      "text/plain": [
       "<Axes: >"
      ]
     },
     "execution_count": 20,
     "metadata": {},
     "output_type": "execute_result"
    },
    {
     "data": {
      "image/png": "[encoded data removed]",
      "text/plain": [
       "<Figure size 640x480 with 2 Axes>"
      ]
     },
     "metadata": {},
     "output_type": "display_data"
    }
   ],
   "source": [
    "sns.heatmap(data.corr(), annot=True)"
   ]
  },
  {
   "cell_type": "code",
   "execution_count": null,
   "id": "e450d70c",
   "metadata": {},
   "outputs": [],
   "source": []
  }
 ],
 "metadata": {
  "kernelspec": {
   "display_name": "Python 3",
   "language": "python",
   "name": "python3"
  },
  "language_info": {
   "codemirror_mode": {
    "name": "ipython",
    "version": 3
   },
   "file_extension": ".py",
   "mimetype": "text/x-python",
   "name": "python",
   "nbconvert_exporter": "python",
   "pygments_lexer": "ipython3",
   "version": "3.12.0"
  }
 },
 "nbformat": 4,
 "nbformat_minor": 5
}
